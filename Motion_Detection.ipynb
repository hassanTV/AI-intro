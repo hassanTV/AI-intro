{
  "nbformat": 4,
  "nbformat_minor": 0,
  "metadata": {
    "colab": {
      "name": "Motion Detection.ipynb",
      "provenance": []
    },
    "kernelspec": {
      "display_name": "Python 3",
      "language": "python",
      "name": "python3"
    },
    "language_info": {
      "codemirror_mode": {
        "name": "ipython",
        "version": 3
      },
      "file_extension": ".py",
      "mimetype": "text/x-python",
      "name": "python",
      "nbconvert_exporter": "python",
      "pygments_lexer": "ipython3",
      "version": "3.7.10"
    }
  },
  "cells": [
    {
      "cell_type": "code",
      "metadata": {
        "id": "njNmivlK_hHP"
      },
      "source": [
        "!wget -O video.mp4 https://github.com/hassanTV/AI-intro/raw/main/TV.mp4\n",
        "\n",
        "import cv2\n",
        "import numpy as np\n",
        "import matplotlib.pyplot as plt\n",
        "\n",
        "cap = cv2.VideoCapture('video.mp4')\n",
        "frame_width = int(cap.get(cv2.CAP_PROP_FRAME_WIDTH)) # Just to learn it\n",
        "frame_height =int(cap.get(cv2.CAP_PROP_FRAME_HEIGHT))\n",
        "\n",
        "ret, frame1 = cap.read()\n",
        "ret, frame2 = cap.read()\n",
        "i = 1\n",
        "while ret:\n",
        "    # Get absolute difference image, dilate it, convert it to binary and dilate it for better contours calculation\n",
        "    diff = cv2.absdiff(frame1, frame2) # abs(frame1 - frame2)\n",
        "    gray = cv2.cvtColor(diff, cv2.COLOR_BGR2GRAY)\n",
        "    blur = cv2.GaussianBlur(gray, (5,5), 0)\n",
        "    _, thresh = cv2.threshold(blur, 20, 255, cv2.THRESH_BINARY)\n",
        "    dilated = cv2.dilate(thresh, None, iterations=3)\n",
        "    # CHAIN_APPROX_NONE stores every pixel, and CHAIN_APPROX_SIMPLE stores only endpoints of the lines that forms the contour\n",
        "    # RETR_TREE won't matter because it's how the retrieved contours are ordered (hierarchy)\n",
        "    contours, _ = cv2.findContours(dilated, cv2.RETR_TREE, cv2.CHAIN_APPROX_SIMPLE) # Boundaries of connected components\n",
        "\n",
        "    # Draw Image, difference image ()Contours\n",
        "    plt.figure()\n",
        "    plt.imshow(frame1)\n",
        "    plt.figure()\n",
        "    plt.imshow(frame2)\n",
        "    plt.figure()\n",
        "    plt.imshow(diff)\n",
        "    plt.figure()\n",
        "    plt.imshow(dilated)\n",
        "    plt.figure()\n",
        "    cv2.drawContours(frame1, contours, -1, (0, 255, 0), 3)  \n",
        "    plt.imshow(frame1)\n",
        "    break\n",
        "\n",
        "    # Mark large contours as moving object\n",
        "    for contour in contours:\n",
        "        (x, y, w, h) = cv2.boundingRect(contour)\n",
        "        if cv2.contourArea(contour) < 900: # Safer to increase the expected moving object area to reduce false positives\n",
        "            continue\n",
        "        cv2.rectangle(frame1, (x, y), (x+w, y+h), (0, 255, 0), 2)\n",
        "        cv2.putText(frame1, \"Status: Movement\", (10, 20), cv2.FONT_HERSHEY_SIMPLEX, 3, (0, 0, 255), 3)\n",
        "\n",
        "    # Save result image\n",
        "    image = cv2.resize(frame1, (1280,720))\n",
        "    cv2.imwrite(\"Result%04d.jpg\" % i, image)\n",
        "    i += 1\n",
        "\n",
        "    # Read next frame\n",
        "    frame1 = frame2\n",
        "    ret, frame2 = cap.read()"
      ],
      "execution_count": null,
      "outputs": []
    },
    {
      "cell_type": "markdown",
      "metadata": {
        "id": "WKY8ajUBCCUj"
      },
      "source": [
        "**Save & download results video**"
      ]
    },
    {
      "cell_type": "code",
      "metadata": {
        "id": "MnpgeG_JB9jy"
      },
      "source": [
        "cap.release()\n",
        "# Create the resulted video file, then download it manually if needed and watch the result\n",
        "!ffmpeg -framerate 30 -r 30 -i 'Result%04d.jpg' -vcodec mpeg4 -y result.mp4 # Save video"
      ],
      "execution_count": null,
      "outputs": []
    },
    {
      "cell_type": "code",
      "metadata": {
        "id": "rzuymBj6yX4N"
      },
      "source": [
        "from google.colab import files\n",
        "files.download('result.mp4')"
      ],
      "execution_count": null,
      "outputs": []
    }
  ]
}